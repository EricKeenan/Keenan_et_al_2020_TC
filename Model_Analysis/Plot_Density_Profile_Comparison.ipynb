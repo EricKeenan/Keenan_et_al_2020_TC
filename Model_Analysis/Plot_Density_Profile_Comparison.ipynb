{
 "cells": [
  {
   "cell_type": "code",
   "execution_count": 1,
   "metadata": {},
   "outputs": [],
   "source": [
    "%matplotlib inline\n",
    "import pickle\n",
    "import numpy as np\n",
    "import matplotlib.pyplot as plt\n",
    "import xarray as xr\n",
    "import cartopy.crs as ccrs\n",
    "import pandas as pd\n",
    "import cartopy.crs as ccrs\n",
    "from pyproj import Geod\n",
    "from scipy import stats\n",
    "from Load_and_Process_Datasets import *\n",
    "import geopandas as gpd\n",
    "from palettable.colorbrewer.diverging import *\n",
    "from palettable.colorbrewer.sequential import *"
   ]
  },
  {
   "cell_type": "markdown",
   "metadata": {},
   "source": [
    "# Load Lat, Lon, and Elevation Data"
   ]
  },
  {
   "cell_type": "code",
   "execution_count": 2,
   "metadata": {},
   "outputs": [
    {
     "data": {
      "text/plain": [
       "<matplotlib.collections.PathCollection at 0x2ad990785c50>"
      ]
     },
     "execution_count": 2,
     "metadata": {},
     "output_type": "execute_result"
    },
    {
     "data": {
      "text/plain": [
       "<Figure size 432x288 with 0 Axes>"
      ]
     },
     "metadata": {},
     "output_type": "display_data"
    },
    {
     "data": {
      "image/png": "[encoded data removed]",
      "text/plain": [
       "<Figure size 360x360 with 1 Axes>"
      ]
     },
     "metadata": {
      "needs_background": "light"
     },
     "output_type": "display_data"
    }
   ],
   "source": [
    "# Load data\n",
    "lat_lon_elevation_path = \"/pl/active/nasa_smb/Data/Density_Profile_Lat_Lon_Elevation.txt\"\n",
    "lat, lon, elevation = np.loadtxt(lat_lon_elevation_path, unpack=True)\n",
    "\n",
    "# Plot Data\n",
    "plt.figure(1)\n",
    "fig1 = plt.figure(figsize=(5, 5))\n",
    "ax = plt.axes(projection=ccrs.SouthPolarStereo())\n",
    "ax.coastlines(resolution='110m')\n",
    "ax.set_extent([-180, 180, -90, -65], ccrs.PlateCarree())\n",
    "plt.scatter(lon, lat, linewidth=2, marker='o', transform=ccrs.Geodetic())"
   ]
  },
  {
   "cell_type": "markdown",
   "metadata": {},
   "source": [
    "# Calculate 1980-2019 Mean MERRA-2 P-E at all sites in meters water equivalent (m.w.e.)"
   ]
  },
  {
   "cell_type": "code",
   "execution_count": 3,
   "metadata": {},
   "outputs": [],
   "source": [
    "data_path = \"/projects/erke2265/SOTC_AIS_SMB/nc_files/\"\n",
    "        \n",
    "# Precipitation\n",
    "sn = xr.open_mfdataset(data_path + \"PRECSN_monthly_*.nc\")\n",
    "ls = xr.open_mfdataset(data_path + \"PRECLS_monthly_*.nc\")\n",
    "cu = xr.open_mfdataset(data_path + \"PRECCU_monthly_*.nc\")\n",
    "\n",
    "# Evaporation \n",
    "evap = xr.open_mfdataset(data_path + \"EVAP_monthly_*.nc\")\n",
    "\n",
    "# Calculate SMB (P-E)\n",
    "smb = (sn['PRECSN'] + ls['PRECLS'] + cu['PRECCU'] - evap['EVAP']) / 12 # convert to yearly average\n",
    "smb = smb.sum(dim = \"time\") * 3.154e+7 / 1000 / (2019 - 1980 + 1) # convert to units of m.w.e/yr\n",
    "\n",
    "# Now get P-E at each lat/lon pair\n",
    "p_e = smb.sel(lon = lon, lat = lat, method = \"nearest\")\n",
    "p_e = p_e.values.diagonal()"
   ]
  },
  {
   "cell_type": "code",
   "execution_count": null,
   "metadata": {},
   "outputs": [
    {
     "data": {
      "text/plain": [
       "-29.379999999999967"
      ]
     },
     "execution_count": 4,
     "metadata": {},
     "output_type": "execute_result"
    }
   ],
   "source": [
    "243.77 - 273.15"
   ]
  },
  {
   "cell_type": "markdown",
   "metadata": {},
   "source": [
    "# Load Density Profiles"
   ]
  },
  {
   "cell_type": "code",
   "execution_count": null,
   "metadata": {},
   "outputs": [],
   "source": [
    "# Open a pickle file\n",
    "f = open(\"density_profile_10mfl_ov_rr.pkl\",'rb')\n",
    "density = pickle.load(f)\n",
    "f.close()"
   ]
  },
  {
   "cell_type": "markdown",
   "metadata": {},
   "source": [
    "# Plot a single profile"
   ]
  },
  {
   "cell_type": "code",
   "execution_count": null,
   "metadata": {},
   "outputs": [
    {
     "name": "stdout",
     "output_type": "stream",
     "text": [
      "0\n",
      "1\n",
      "2\n",
      "3\n",
      "4\n",
      "5\n",
      "6\n",
      "7\n",
      "8\n",
      "9\n",
      "10\n"
     ]
    },
    {
     "name": "stderr",
     "output_type": "stream",
     "text": [
      "/projects/erke2265/miniconda/envs/a3d/lib/python3.7/site-packages/ipykernel_launcher.py:8: RuntimeWarning: More than 20 figures have been opened. Figures created through the pyplot interface (`matplotlib.pyplot.figure`) are retained until explicitly closed and may consume too much memory. (To control this warning, see the rcParam `figure.max_open_warning`).\n",
      "  \n",
      "/projects/erke2265/miniconda/envs/a3d/lib/python3.7/site-packages/ipykernel_launcher.py:26: RuntimeWarning: More than 20 figures have been opened. Figures created through the pyplot interface (`matplotlib.pyplot.figure`) are retained until explicitly closed and may consume too much memory. (To control this warning, see the rcParam `figure.max_open_warning`).\n"
     ]
    },
    {
     "name": "stdout",
     "output_type": "stream",
     "text": [
      "11\n",
      "12\n",
      "13\n",
      "14\n",
      "15\n",
      "16\n",
      "17\n",
      "18\n",
      "19\n",
      "20\n",
      "21\n",
      "22\n",
      "23\n",
      "24\n"
     ]
    }
   ],
   "source": [
    "for j in range(0, len(lat)):\n",
    "# for j in range(0, 1):\n",
    "    print(j)\n",
    "    # Define index\n",
    "    ind = str(j + 1)\n",
    "\n",
    "    # Plot profile\n",
    "    fig = plt.figure(figsize=(6,10))\n",
    "    plt.plot(density['fdm_density_' + ind], density['fdm_depth_' + ind], 'r', \\\n",
    "             linewidth = 2, label = 'FDM')\n",
    "    plt.plot(density['snowpack_density_' + ind], density['snowpack_depth_' + ind], 'k', \\\n",
    "             linewidth = 2, label = 'SNOWPACK')\n",
    "    plt.plot(density['sumup_density_' + ind], density['sumup_depth_' + ind], 'b', \\\n",
    "             linewidth = 2, label = 'Observations')\n",
    "    plt.grid()\n",
    "    plt.ylim([0, 10])\n",
    "    plt.gca().invert_yaxis()\n",
    "    plt.legend()\n",
    "    plt.ylabel(\"Depth [m]\", fontsize = 18)\n",
    "    plt.xlabel(\"Density [kg m$^-$$^3$]\", fontsize = 18)\n",
    "    plt.xlim([200, 650])\n",
    "    plt.savefig('Figures/density_profiles/profile_' + ind + \".png\", format='png', dpi=100)\n",
    "    \n",
    "    # Plot map\n",
    "    plt.figure(1)\n",
    "    fig1 = plt.figure(figsize=(5, 5))\n",
    "    ax = plt.axes(projection=ccrs.SouthPolarStereo())\n",
    "    ax.coastlines(resolution='110m')\n",
    "    ax.set_extent([-180, 180, -90, -65], ccrs.PlateCarree())\n",
    "    plt.scatter(lon[j], lat[j], linewidth=2, marker='o', transform=ccrs.Geodetic())\n",
    "    plt.savefig('Figures/density_profiles/map_' + ind + \".png\", format='png', dpi=100)\n",
    "\n",
    "!zip -r Figures/profiles.zip Figures/density_profiles/\n",
    "\n"
   ]
  },
  {
   "cell_type": "markdown",
   "metadata": {},
   "source": [
    "# Define Vertical Bins"
   ]
  },
  {
   "cell_type": "code",
   "execution_count": null,
   "metadata": {},
   "outputs": [],
   "source": [
    "depth_interest_low = 0\n",
    "depth_interest_high = 10\n",
    "step = 1"
   ]
  },
  {
   "cell_type": "markdown",
   "metadata": {},
   "source": [
    "# Calculate depth bin weighted (by layer thickness) density averages"
   ]
  },
  {
   "cell_type": "code",
   "execution_count": null,
   "metadata": {},
   "outputs": [],
   "source": [
    "# Initialize arrays\n",
    "depth = np.arange(depth_interest_low, depth_interest_high + step, step)\n",
    "SUMup_avg = np.zeros([len(depth) - 1, len(lat)]); SUMup_avg[:] = np.nan\n",
    "SUMup_avg_error = np.zeros([len(depth) - 1, len(lat)]); SUMup_avg[:] = np.nan\n",
    "FDM_avg = np.zeros([len(depth) - 1, len(lat)]); FDM_avg[:] = np.nan\n",
    "SNOWPACK_avg = np.zeros([len(depth) - 1, len(lat)]); SNOWPACK_avg[:] = np.nan\n",
    "\n",
    "# Calculate average in each depth bin\n",
    "\n",
    "# SUMup\n",
    "for k in range(0, len(SUMup_avg)): # Layer\n",
    "    depth_low = depth[k]\n",
    "    depth_high = depth[k+1]\n",
    "    filter_func = np.vectorize(lambda depth: depth >= depth_low and depth <= depth_high)\n",
    "    for j in range(0, len(lat)): # Profile\n",
    "        tmp_density = density[\"sumup_density_\" + str(j+1)]\n",
    "        tmp_depth = density[\"sumup_depth_\" + str(j+1)]\n",
    "        tmp_error = density[\"sumup_error_\" + str(j+1)]\n",
    "        if len(tmp_depth) == 0: # No data at all\n",
    "            SUMup_avg[k,j] = np.nan\n",
    "            SUMup_avg_error[k,j] = np.nan\n",
    "        else: # There is data\n",
    "            tmp_density_filtered = tmp_density[filter_func(tmp_depth)]\n",
    "            tmp_depth_filtered = tmp_depth[filter_func(tmp_depth)]\n",
    "            tmp_error_filtered = tmp_error[filter_func(tmp_depth)]\n",
    "            thickness = np.zeros(len(tmp_density_filtered)); thickness[:] = np.nan\n",
    "            if len(tmp_density_filtered) == 0: # No data in depth bin\n",
    "                SUMup_avg[k,j] = np.nan\n",
    "                SUMup_avg_error[k,j] = np.nan\n",
    "            elif len(tmp_density_filtered) == 1: # Only one data point\n",
    "                SUMup_avg[k,j] = tmp_density_filtered[0]\n",
    "                SUMup_avg_error[k,j] = tmp_error_filtered[0]\n",
    "            else: # There is data in depth bin\n",
    "                for jj in range(0, len(tmp_depth_filtered)):\n",
    "                    if jj == 0:\n",
    "                        thickness[jj] = (tmp_depth_filtered[jj] + tmp_depth_filtered[jj+1]) / 2 - depth_low\n",
    "                    elif jj == len(tmp_depth_filtered) - 1:\n",
    "                        thickness[jj] = depth_high - (tmp_depth_filtered[jj] + tmp_depth_filtered[jj-1]) / 2\n",
    "                    else: \n",
    "                        thickness[jj] = ((tmp_depth_filtered[jj+1] + tmp_depth_filtered[jj]) / 2) - ((tmp_depth_filtered[jj] + tmp_depth_filtered[jj-1]) / 2)\n",
    "                SUMup_avg[k,j] = np.nansum(tmp_density_filtered * thickness / np.nansum(thickness))\n",
    "\n",
    "# SUMup site 96 depth data is not sorted in order, so I throw it out.\n",
    "SUMup_avg[:,95] = np.nan\n",
    "\n",
    "# FDM\n",
    "for k in range(0, len(FDM_avg)): # Layer\n",
    "    depth_low = depth[k]\n",
    "    depth_high = depth[k+1]\n",
    "    filter_func = np.vectorize(lambda depth: depth >= depth_low and depth <= depth_high)\n",
    "    for j in range(0, len(lat)): # Profile\n",
    "        tmp_density = density[\"fdm_density_\" + str(j+1)]\n",
    "        tmp_depth = density[\"fdm_depth_\" + str(j+1)]\n",
    "        if len(tmp_depth) == 0: # No data at all\n",
    "            FDM_avg[k,j] = np.nan\n",
    "        else: # There is data\n",
    "            tmp_density_filtered = tmp_density[filter_func(tmp_depth)]\n",
    "            tmp_depth_filtered = tmp_depth[filter_func(tmp_depth)]\n",
    "            thickness = np.zeros(len(tmp_density_filtered)); thickness[:] = np.nan\n",
    "            if len(tmp_density_filtered) == 0: # No data in depth bin\n",
    "                FDM_avg[k,j] = np.nan\n",
    "            elif len(tmp_density_filtered) == 1: # Only one data point\n",
    "                FDM_avg[k,j] = tmp_density_filtered[0]\n",
    "            else: # There is data in depth bin\n",
    "                for jj in range(0, len(tmp_depth_filtered)):\n",
    "                    if jj == 0:\n",
    "                        thickness[jj] = (tmp_depth_filtered[jj] + tmp_depth_filtered[jj+1]) / 2 - depth_low\n",
    "                    elif jj == len(tmp_depth_filtered) - 1:\n",
    "                        thickness[jj] = depth_high - (tmp_depth_filtered[jj] + tmp_depth_filtered[jj-1]) / 2\n",
    "                    else: \n",
    "                        thickness[jj] = ((tmp_depth_filtered[jj+1] + tmp_depth_filtered[jj]) / 2) - ((tmp_depth_filtered[jj] + tmp_depth_filtered[jj-1]) / 2)\n",
    "                FDM_avg[k,j] = np.nansum(tmp_density_filtered * thickness / np.nansum(thickness))     \n",
    "                \n",
    "# SNOWPACK\n",
    "for k in range(0, len(SNOWPACK_avg)): # Layer\n",
    "    depth_low = depth[k]\n",
    "    depth_high = depth[k+1]\n",
    "    filter_func = np.vectorize(lambda depth: depth >= depth_low and depth <= depth_high)\n",
    "    for j in range(0, len(lat)): # Profile\n",
    "        tmp_density = density[\"snowpack_density_\" + str(j+1)]\n",
    "        tmp_depth = density[\"snowpack_depth_\" + str(j+1)]\n",
    "        if len(tmp_depth) == 0: # No data at all\n",
    "            SNOWPACK_avg[k,j] = np.nan\n",
    "        else: # There is data\n",
    "            tmp_density_filtered = tmp_density[filter_func(tmp_depth)]\n",
    "            tmp_depth_filtered = tmp_depth[filter_func(tmp_depth)]\n",
    "            thickness = np.zeros(len(tmp_density_filtered)); thickness[:] = np.nan\n",
    "            if len(tmp_density_filtered) == 0: # No data in depth bin\n",
    "                SNOWPACK_avg[k,j] = np.nan\n",
    "            elif len(tmp_density_filtered) == 1: # Only one data point\n",
    "                SNOWPACK_avg[k,j] = tmp_density_filtered[0]\n",
    "            else: # There is data in depth bin\n",
    "                for jj in range(0, len(tmp_depth_filtered)):\n",
    "                    if jj == 0:\n",
    "                        thickness[jj] = (tmp_depth_filtered[jj] + tmp_depth_filtered[jj+1]) / 2 - depth_low\n",
    "                    elif jj == len(tmp_depth_filtered) - 1:\n",
    "                        thickness[jj] = depth_high - (tmp_depth_filtered[jj] + tmp_depth_filtered[jj-1]) / 2\n",
    "                    else: \n",
    "                        thickness[jj] = ((tmp_depth_filtered[jj+1] + tmp_depth_filtered[jj]) / 2) - ((tmp_depth_filtered[jj] + tmp_depth_filtered[jj-1]) / 2)\n",
    "                SNOWPACK_avg[k,j] = np.nansum(tmp_density_filtered * thickness / np.nansum(thickness))           \n"
   ]
  },
  {
   "cell_type": "markdown",
   "metadata": {},
   "source": [
    "# Filter layers that do not have info from both models and observations\n",
    "# Also filter based of elevation of smb"
   ]
  },
  {
   "cell_type": "code",
   "execution_count": null,
   "metadata": {},
   "outputs": [],
   "source": [
    "ind = np.zeros(SUMup_avg.shape); ind[:] = np.nan\n",
    "depth = np.arange(step / 2, depth_interest_high, step)\n",
    "\n",
    "# Loop through every profile and layer to calculate filter\n",
    "for k in range(0, len(depth)): # Layer\n",
    "    for j in range(0, len(lat)): # Profile\n",
    "        if ~np.isnan(SUMup_avg[k,j]) and ~np.isnan(FDM_avg[k,j]) and ~np.isnan(SNOWPACK_avg[k,j]):\n",
    "            ind[k,j] = 1\n",
    "\n",
    "# ##### Elevation Filter #####\n",
    "# # Elevation threshold in meters\n",
    "# thresh_high = 5000\n",
    "# thresh_low = 0\n",
    "\n",
    "# plt.hist(elevation)\n",
    "# plt.axvline(x=thresh_high, c='r')\n",
    "# plt.axvline(x=thresh_low, c='r')\n",
    "\n",
    "# for j in range(0, len(lat)): # Loop through all sites\n",
    "#     if elevation[j] > thresh_high or elevation[j] < thresh_low:\n",
    "#         ind[:,j] = np.nan\n",
    "        \n",
    "##### Accumulation Filter #####\n",
    "# Accumulation threshold in m.w.e.\n",
    "# Filter out low accumulation\n",
    "thresh_high = 1\n",
    "thresh_low = .2\n",
    "# qualitative_description = \"High Accumulation\"\n",
    "# Filter out high accumulation\n",
    "thresh_high = .2\n",
    "thresh_low = 0\n",
    "# qualitative_description = \"Low Accumulation\"\n",
    "\n",
    "\n",
    "\n",
    "plt.hist(p_e)\n",
    "plt.axvline(x=thresh_high, c='r')\n",
    "plt.axvline(x=thresh_low, c='r')\n",
    "\n",
    "for j in range(0, len(lat)): # Loop through all sites\n",
    "    if p_e[j] > thresh_high or p_e[j] < thresh_low:\n",
    "        ind[:,j] = np.nan\n"
   ]
  },
  {
   "cell_type": "markdown",
   "metadata": {},
   "source": [
    "# Determine which sites are used"
   ]
  },
  {
   "cell_type": "code",
   "execution_count": null,
   "metadata": {},
   "outputs": [],
   "source": [
    "sites_used = np.zeros(len(lat)); sites_used[:] = np.nan # Nan means not used, 1 means used\n",
    "for j in range(0, len(lat)):\n",
    "    # If there is non nan in ind[:,j]\n",
    "    if np.nansum(ind[:,j]) > 0:\n",
    "        sites_used[j] = 1"
   ]
  },
  {
   "cell_type": "markdown",
   "metadata": {},
   "source": [
    "# Apply filter"
   ]
  },
  {
   "cell_type": "code",
   "execution_count": null,
   "metadata": {},
   "outputs": [],
   "source": [
    "# Apply filter\n",
    "filter_SUMup_avg = SUMup_avg * ind\n",
    "filter_FDM_avg = FDM_avg * ind\n",
    "filter_SNOWPACK_avg = SNOWPACK_avg * ind\n",
    "\n",
    "# Calculate depth averages pth\n",
    "SUMup_mean = np.nanmean(filter_SUMup_avg, axis=1)\n",
    "FDM_mean = np.nanmean(filter_FDM_avg, axis=1)\n",
    "SNOWPACK_mean = np.nanmean(filter_SNOWPACK_avg, axis=1)\n",
    "\n",
    "# Calculate depth standard deviations \n",
    "SUMup_std = np.nanstd(filter_SUMup_avg, axis=1)\n",
    "FDM_std = np.nanstd(filter_FDM_avg, axis=1)\n",
    "SNOWPACK_std = np.nanstd(filter_SNOWPACK_avg, axis=1)"
   ]
  },
  {
   "cell_type": "markdown",
   "metadata": {},
   "source": [
    "# Coastline data"
   ]
  },
  {
   "cell_type": "code",
   "execution_count": null,
   "metadata": {},
   "outputs": [],
   "source": [
    "df = gpd.read_file(\"/pl/active/nasa_smb/Data/ADD_Coastline_low_res_polygon.shp\")\n",
    "crs_epsg = ccrs.SouthPolarStereo()\n",
    "df_epsg = df.to_crs(epsg='3031')"
   ]
  },
  {
   "cell_type": "markdown",
   "metadata": {},
   "source": [
    "# Plot "
   ]
  },
  {
   "cell_type": "code",
   "execution_count": null,
   "metadata": {},
   "outputs": [],
   "source": [
    "# Plot\n",
    "# Plot Means\n",
    "fig1, (ax1, ax2) = plt.subplots(1, 2, figsize=(12,10))\n",
    "# fig1, (ax1, ax2, ax3) = plt.subplots(1, 3, figsize=(18,10))\n",
    "ax1.plot(SUMup_mean, depth, 'bo--', linewidth = 2, label = 'Observations')\n",
    "ax1.plot(FDM_mean, depth, 'ro--', linewidth = 2, label = 'IMAU-FDM')\n",
    "ax1.plot(SNOWPACK_mean, depth, 'ko--', linewidth = 2, label = 'SNOWPACK')\n",
    "\n",
    "# Plot standard deviations\n",
    "ax1.fill_betweenx(depth, SUMup_mean - SUMup_std, SUMup_mean + SUMup_std, \\\n",
    "                  facecolor = \"blue\", color = \"blue\", alpha = 0.2, label = \"\\u00B1\" + \" \\u03C3\")\n",
    "ax1.fill_betweenx(depth, FDM_mean - FDM_std, FDM_mean + FDM_std, \\\n",
    "                  facecolor = \"red\", color = \"red\", alpha = 0.2, label = \"\\u00B1\" + \" \\u03C3\")\n",
    "ax1.fill_betweenx(depth, SNOWPACK_mean - SNOWPACK_std, SNOWPACK_mean + SNOWPACK_std, \\\n",
    "                  facecolor = \"black\", color = \"black\", alpha = 0.2, label = \"\\u00B1\" + \" \\u03C3\")\n",
    "\n",
    "# Plot Dashed edges\n",
    "ax1.plot(SUMup_mean - SUMup_std, depth, 'b', linewidth = 2)\n",
    "ax1.plot(SUMup_mean + SUMup_std, depth, 'b', linewidth = 2)\n",
    "ax1.plot(FDM_mean - FDM_std, depth, 'r', linewidth = 2)\n",
    "ax1.plot(FDM_mean + FDM_std, depth, 'r', linewidth = 2)\n",
    "ax1.plot(SNOWPACK_mean - SNOWPACK_std, depth, 'k', linewidth = 2)\n",
    "ax1.plot(SNOWPACK_mean + SNOWPACK_std, depth, 'k', linewidth = 2)\n",
    "\n",
    "# Plotting options\n",
    "ax1.grid()\n",
    "ax1.set_xlim([300, 600])\n",
    "ax1.set_ylim([0, 10])\n",
    "ax1.invert_yaxis()\n",
    "ax1.legend(fontsize = 12)\n",
    "ax1.set_ylabel(\"Depth [m]\", fontsize = 18)\n",
    "ax1.set_xlabel(\"Density [kg m$^-$$^3$]\", fontsize = 18)\n",
    "ax1.tick_params(axis=\"x\", labelsize=16)\n",
    "ax1.tick_params(axis=\"y\", labelsize=16)\n",
    "\n",
    "# Plot bias with depth\n",
    "FDM_bias = FDM_mean - SUMup_mean\n",
    "SNOWPACK_bias = SNOWPACK_mean - SUMup_mean\n",
    "\n",
    "ax2.plot(FDM_bias, depth, 'ro--', linewidth=2, label = \"IMAU-FDM\")\n",
    "ax2.plot(SNOWPACK_bias, depth, 'ko--', linewidth=2, label = \"SNOWPACK\")\n",
    "ax2.grid()\n",
    "ax2.set_xlim([-65, 65])\n",
    "ax2.set_ylim([0, 10])\n",
    "ax2.invert_yaxis()\n",
    "ax2.set_ylabel(\"Depth [m]\", fontsize = 18)\n",
    "ax2.set_xlabel(\"Density Bias [kg m$^-$$^3$]\", fontsize = 18)\n",
    "ax2.tick_params(axis=\"x\", labelsize=16)\n",
    "ax2.tick_params(axis=\"y\", labelsize=16)\n",
    "ax2.legend(fontsize = 12)\n",
    "\n",
    "# Plot the number of profiles with depth\n",
    "# Perform count\n",
    "counts = []\n",
    "for j in range(0, len(depth)):\n",
    "    counts.append(np.count_nonzero(~np.isnan(ind[j,:])))\n",
    "\n",
    "# # Plot\n",
    "# ax3.plot(counts, depth, 'ko--', linewidth=2)\n",
    "# ax3.grid()\n",
    "# ax3.set_ylim([0, 10])\n",
    "# ax3.invert_yaxis()\n",
    "# ax3.set_ylabel(\"Depth [m]\", fontsize = 18)\n",
    "# ax3.set_xlabel(\"Number of Profiles\", fontsize = 18)\n",
    "# ax3.set_title(\"Number of profiles that have coincident Obs, FDM, and SNOWPACK with Depth\")\n",
    "plt.savefig(\"Figures/density_profile.pdf\", format='pdf', dpi=100)\n",
    "\n",
    "# Map\n",
    "# Generate figure \n",
    "fig, axs = plt.subplots(1, 1, subplot_kw={'projection': crs_epsg},\n",
    "                        figsize=(10, 10))\n",
    "\n",
    "# Plot coastlines\n",
    "axs.set_extent((-180, 180, -90, -65), ccrs.PlateCarree())\n",
    "axs.add_geometries(df_epsg['geometry'], crs=crs_epsg,\n",
    "                      facecolor='none', edgecolor='black')\n",
    "\n",
    "# Plot SNOWPACK minus Observations\n",
    "plt.scatter(lon*sites_used, lat*sites_used, linewidth=2, c='k', marker='o', transform=ccrs.Geodetic())\n",
    "plt.savefig(\"Figures/density_profile_map.pdf\", format='pdf', dpi=100)\n",
    "print(np.count_nonzero(~np.isnan(lat*sites_used)))\n",
    "\n"
   ]
  },
  {
   "cell_type": "code",
   "execution_count": null,
   "metadata": {},
   "outputs": [],
   "source": [
    "print((SUMup_mean[0]))"
   ]
  },
  {
   "cell_type": "code",
   "execution_count": null,
   "metadata": {},
   "outputs": [],
   "source": [
    "print((SUMup_mean))"
   ]
  },
  {
   "cell_type": "code",
   "execution_count": null,
   "metadata": {},
   "outputs": [],
   "source": [
    "print((SNOWPACK_mean))"
   ]
  },
  {
   "cell_type": "code",
   "execution_count": null,
   "metadata": {},
   "outputs": [],
   "source": [
    "print((SNOWPACK_bias))"
   ]
  },
  {
   "cell_type": "code",
   "execution_count": null,
   "metadata": {},
   "outputs": [],
   "source": [
    "SNOWPACK_bias.max()"
   ]
  },
  {
   "cell_type": "code",
   "execution_count": null,
   "metadata": {},
   "outputs": [],
   "source": [
    "print(FDM_bias)"
   ]
  },
  {
   "cell_type": "markdown",
   "metadata": {},
   "source": [
    "# Investigate standard deviations"
   ]
  },
  {
   "cell_type": "code",
   "execution_count": null,
   "metadata": {},
   "outputs": [],
   "source": [
    "SUMup_std"
   ]
  },
  {
   "cell_type": "code",
   "execution_count": null,
   "metadata": {},
   "outputs": [],
   "source": [
    "SNOWPACK_std"
   ]
  },
  {
   "cell_type": "code",
   "execution_count": null,
   "metadata": {},
   "outputs": [],
   "source": [
    "FDM_std"
   ]
  },
  {
   "cell_type": "code",
   "execution_count": null,
   "metadata": {},
   "outputs": [],
   "source": [
    "plt.plot(SNOWPACK_std - SUMup_std, 'b', label='SNOWPACK')\n",
    "plt.plot(FDM_std - SUMup_std, 'r', label='FDM')\n",
    "plt.ylim([-30, 30])\n",
    "plt.grid()\n",
    "plt.legend()"
   ]
  },
  {
   "cell_type": "markdown",
   "metadata": {},
   "source": [
    "# Scatter plot of SUMup vs SNOWPACK in the top meter\n",
    "#### This analysis is different than what I do in `Plot_Top_Meter_Density.ipynb`"
   ]
  },
  {
   "cell_type": "code",
   "execution_count": null,
   "metadata": {},
   "outputs": [],
   "source": [
    "domain = np.array([0, 700])\n",
    "ind_snowpack = []\n",
    "depth_ind = 0 # Ind must be an integer. If ind = x, then you will querry from x to x + 1 m. \n",
    "\n",
    "# Loop through every site\n",
    "for k in range(0, len(lat)):\n",
    "        if ~np.isnan(SUMup_avg[depth_ind,k]) and ~np.isnan(SNOWPACK_avg[depth_ind,k]) and ~np.isnan(FDM_avg[depth_ind,k]):\n",
    "            ind_snowpack.append(k)\n",
    "\n",
    "plt.figure(figsize=(10, 10))\n",
    "plt.scatter(SUMup_avg[depth_ind,ind_snowpack], SNOWPACK_avg[depth_ind,ind_snowpack], c='k')\n",
    "# plt.errorbar(SUMup_avg[depth_ind,ind_snowpack], SNOWPACK_avg[depth_ind,ind_snowpack], \\\n",
    "#              xerr=0.1 * SUMup_avg[depth_ind,ind_snowpack], fmt='ko')\n",
    "plt.plot([0, 700], [0, 700], 'k--')\n",
    "plt.xlim([250, 525])\n",
    "plt.ylim([250, 525])\n",
    "plt.xticks(fontsize=16)\n",
    "plt.yticks(fontsize=16)\n",
    "plt.grid()\n",
    "plt.xlabel('Observed Surface Density [kg m$^-$$^3$]', fontsize=24)\n",
    "plt.ylabel('SNOWPACK Surface Density [kg m$^-$$^3$]', fontsize=24)\n",
    "\n",
    "slope, intercept, r_value, p_value, std_err = \\\n",
    "    stats.linregress(SUMup_avg[depth_ind,ind_snowpack], SNOWPACK_avg[depth_ind,ind_snowpack])\n",
    "plt.plot(domain, intercept + slope*domain, 'k', label='fitted line')\n",
    "\n",
    "rmse = utilities.calc_rmse(SUMup_avg[depth_ind,ind_snowpack], SNOWPACK_avg[depth_ind,ind_snowpack])\n",
    "bias = utilities.calc_bias(SUMup_avg[depth_ind,ind_snowpack], SNOWPACK_avg[depth_ind,ind_snowpack])\n",
    "\n",
    "print(\"R-squared: %f\" % r_value**2)\n",
    "print(\"p-value: %f\" % p_value)\n",
    "print(\"RMSE: %f\" % rmse)\n",
    "print(\"Bias: %f\" % bias)\n",
    "print(\"Slope: %f\" % slope)\n",
    "plt.savefig(\"Figures/SNOWPACK_top_meter_density_scatter.pdf\", format='pdf', dpi=100)\n",
    "print(len(SNOWPACK_avg[0,ind_snowpack]))"
   ]
  },
  {
   "cell_type": "markdown",
   "metadata": {},
   "source": [
    "# Calculate SNOWPACK surface density bias and rmse when observed density is larger than 400 $kgm^{-3}$"
   ]
  },
  {
   "cell_type": "code",
   "execution_count": null,
   "metadata": {},
   "outputs": [],
   "source": [
    "rmse = utilities.calc_rmse(SUMup_avg[0,ind_snowpack][SUMup_avg[0,ind_snowpack] > 400], SNOWPACK_avg[0,ind_snowpack][SUMup_avg[0,ind_snowpack] > 400])\n",
    "bias = utilities.calc_bias(SUMup_avg[0,ind_snowpack][SUMup_avg[0,ind_snowpack] > 400], SNOWPACK_avg[0,ind_snowpack][SUMup_avg[0,ind_snowpack] > 400])\n",
    "print(bias)\n",
    "print(rmse)"
   ]
  },
  {
   "cell_type": "markdown",
   "metadata": {},
   "source": [
    "# Scatter plot of SUMup vs FDM in the top meter\n",
    "#### This analysis is different than what I do in `Plot_Top_Meter_Density.ipynb`"
   ]
  },
  {
   "cell_type": "code",
   "execution_count": null,
   "metadata": {},
   "outputs": [],
   "source": [
    "domain = np.array([0, 700])\n",
    "ind_fdm = []\n",
    "\n",
    "# Loop through every site\n",
    "for k in range(0, len(lat)):\n",
    "        if ~np.isnan(SUMup_avg[depth_ind,k]) and ~np.isnan(FDM_avg[depth_ind,k]) and ~np.isnan(SNOWPACK_avg[depth_ind,k]):\n",
    "            ind_fdm.append(k)\n",
    "\n",
    "plt.figure(figsize=(10, 10))\n",
    "plt.scatter(SUMup_avg[depth_ind,ind_fdm], FDM_avg[depth_ind,ind_fdm], c='red')\n",
    "# plt.errorbar(SUMup_avg[depth_ind,ind_fdm], FDM_avg[depth_ind,ind_fdm], \\\n",
    "#              xerr=0.1 * SUMup_avg[depth_ind,ind_fdm], fmt='ro')\n",
    "plt.plot([0, 700], [0, 700], 'k--')\n",
    "plt.xlim([250, 525])\n",
    "plt.ylim([250, 525])\n",
    "plt.xticks(fontsize=16)\n",
    "plt.yticks(fontsize=16)\n",
    "plt.grid()\n",
    "plt.xlabel('Observed Surface Density [kg m$^-$$^3$]', fontsize=24)\n",
    "plt.ylabel('IMAU-FDM Surface Density [kg m$^-$$^3$]', fontsize=24)\n",
    "\n",
    "slope, intercept, r_value, p_value, std_err = \\\n",
    "    stats.linregress(SUMup_avg[depth_ind,ind_fdm], FDM_avg[depth_ind,ind_fdm])\n",
    "plt.plot(domain, intercept + slope*domain, 'r', label='fitted line')\n",
    "\n",
    "rmse = utilities.calc_rmse(SUMup_avg[depth_ind,ind_fdm], FDM_avg[depth_ind,ind_fdm])\n",
    "bias = utilities.calc_bias(SUMup_avg[depth_ind,ind_fdm], FDM_avg[depth_ind,ind_fdm])\n",
    "\n",
    "print(\"R-squared: %f\" % r_value**2)\n",
    "print(\"p-value: %f\" % p_value)\n",
    "print(\"RMSE: %f\" % rmse)\n",
    "print(\"Bias: %f\" % bias)\n",
    "print(\"Slope: %f\" % slope)\n",
    "plt.savefig(\"Figures/FDM_top_meter_density_scatter.pdf\", format='pdf', dpi=100)\n",
    "print(len(FDM_avg[0,ind_fdm]))"
   ]
  },
  {
   "cell_type": "markdown",
   "metadata": {},
   "source": [
    "# Calculate IMAU-FDM surface density bias and rmse when observed density is larger than 400 $kgm^{-3}$"
   ]
  },
  {
   "cell_type": "code",
   "execution_count": null,
   "metadata": {},
   "outputs": [],
   "source": [
    "rmse = utilities.calc_rmse(SUMup_avg[0,ind_fdm][SUMup_avg[0,ind_fdm] > 400], FDM_avg[0,ind_fdm][SUMup_avg[0,ind_fdm] > 400])\n",
    "bias = utilities.calc_bias(SUMup_avg[0,ind_fdm][SUMup_avg[0,ind_fdm] > 400], FDM_avg[0,ind_fdm][SUMup_avg[0,ind_fdm] > 400])\n",
    "print(bias)\n",
    "print(rmse)"
   ]
  },
  {
   "cell_type": "markdown",
   "metadata": {},
   "source": [
    "# Calculate colorbar limit"
   ]
  },
  {
   "cell_type": "code",
   "execution_count": null,
   "metadata": {},
   "outputs": [],
   "source": [
    "# Calculate model differences\n",
    "SNOWPACK_diff = SNOWPACK_avg[0,ind_snowpack] - SUMup_avg[0,ind_snowpack]\n",
    "FDM_diff = FDM_avg[0,ind_fdm] - SUMup_avg[0,ind_fdm]\n",
    "\n",
    "# Retrieve the maximum magnitude difference\n",
    "SNOWPACK_max = np.nanmax(abs(SNOWPACK_diff))\n",
    "FDM_max = np.nanmax(abs(FDM_diff))\n",
    "colorbar_thresh = np.max(np.array([SNOWPACK_max, FDM_max]))\n",
    "print(colorbar_thresh)"
   ]
  },
  {
   "cell_type": "markdown",
   "metadata": {},
   "source": [
    "# Plot SNOWPACK minus Observations"
   ]
  },
  {
   "cell_type": "code",
   "execution_count": null,
   "metadata": {},
   "outputs": [],
   "source": [
    "# Generate figure \n",
    "fig, axs = plt.subplots(1, 1, subplot_kw={'projection': crs_epsg},\n",
    "                        figsize=(10, 10))\n",
    "\n",
    "# Plot coastlines\n",
    "axs.set_extent((-180, 180, -90, -65), ccrs.PlateCarree())\n",
    "axs.add_geometries(df_epsg['geometry'], crs=crs_epsg,\n",
    "                      facecolor='none', edgecolor='black')\n",
    "\n",
    "# Plot SNOWPACK minus Observations\n",
    "cbar = plt.scatter(lon[ind_snowpack], lat[ind_snowpack], c=SNOWPACK_diff, linewidth=5, \\\n",
    "    marker='o', transform=ccrs.Geodetic(), cmap =  RdBu_5.mpl_colormap)\n",
    "cbar = plt.colorbar()\n",
    "cbar.set_label(label='kg m$^-$$^3$', size = 32)\n",
    "cbar.ax.tick_params(labelsize=24)\n",
    "plt.clim(-colorbar_thresh, colorbar_thresh)\n",
    "plt.title(\"SNOWPACK - Observations\", fontsize = 24)\n",
    "plt.savefig(\"Figures/SNOWPACK_top_meter_bias_map.pdf\", format='pdf', dpi=100)"
   ]
  },
  {
   "cell_type": "code",
   "execution_count": null,
   "metadata": {},
   "outputs": [],
   "source": [
    "slope, intercept, r_value, p_value, std_err = \\\n",
    "    stats.linregress(SUMup_avg[0,ind_snowpack], SNOWPACK_avg[0,ind_snowpack] - SUMup_avg[0,ind_snowpack])\n",
    "plt.scatter(SUMup_avg[0,ind_snowpack], SNOWPACK_avg[0,ind_snowpack] - SUMup_avg[0,ind_snowpack])\n",
    "plt.scatter(SUMup_avg[0,ind_snowpack], intercept + (SUMup_avg[0,ind_snowpack]) * slope)\n",
    "print(r_value**2)\n",
    "print(p_value)\n",
    "print(slope)"
   ]
  },
  {
   "cell_type": "code",
   "execution_count": null,
   "metadata": {},
   "outputs": [],
   "source": [
    "slope, intercept, r_value, p_value, std_err = \\\n",
    "    stats.linregress(SUMup_avg[0,ind_fdm], FDM_avg[0,ind_fdm] - SUMup_avg[0,ind_fdm])\n",
    "plt.scatter(SUMup_avg[0,ind_fdm], FDM_avg[0,ind_fdm] - SUMup_avg[0,ind_fdm])\n",
    "plt.scatter(SUMup_avg[0,ind_fdm], intercept + (SUMup_avg[0,ind_fdm]) * slope)\n",
    "print(r_value**2)\n",
    "print(p_value)\n",
    "print(slope)"
   ]
  },
  {
   "cell_type": "markdown",
   "metadata": {},
   "source": [
    "# Plot FDM minus Observations"
   ]
  },
  {
   "cell_type": "code",
   "execution_count": null,
   "metadata": {},
   "outputs": [],
   "source": [
    "# Generate figure \n",
    "fig, axs = plt.subplots(1, 1, subplot_kw={'projection': crs_epsg},\n",
    "                        figsize=(10, 10))\n",
    "\n",
    "# Plot coastlines\n",
    "axs.set_extent((-180, 180, -90, -65), ccrs.PlateCarree())\n",
    "axs.add_geometries(df_epsg['geometry'], crs=crs_epsg,\n",
    "                      facecolor='none', edgecolor='black')\n",
    "\n",
    "# Plot SNOWPACK minus Observations\n",
    "cbar = plt.scatter(lon[ind_fdm], lat[ind_fdm], c=FDM_diff, linewidth=5, \\\n",
    "    marker='o', transform=ccrs.Geodetic(), cmap =  RdBu_5.mpl_colormap)\n",
    "cbar = plt.colorbar()\n",
    "cbar.set_label(label='kg m$^-$$^3$', size = 32)\n",
    "cbar.ax.tick_params(labelsize=24)\n",
    "plt.clim(-colorbar_thresh, colorbar_thresh)\n",
    "plt.title(\"IMAU-FDM - Observations\", fontsize = 24)\n",
    "plt.savefig(\"Figures/FDM_top_meter_bias_map.pdf\", format='pdf', dpi=100)"
   ]
  },
  {
   "cell_type": "markdown",
   "metadata": {},
   "source": [
    "# Plot  Observations"
   ]
  },
  {
   "cell_type": "code",
   "execution_count": null,
   "metadata": {},
   "outputs": [],
   "source": [
    "# Generate figure \n",
    "fig, axs = plt.subplots(1, 1, subplot_kw={'projection': crs_epsg},\n",
    "                        figsize=(10, 10))\n",
    "\n",
    "# Plot coastlines\n",
    "axs.set_extent((-180, 180, -90, -65), ccrs.PlateCarree())\n",
    "axs.add_geometries(df_epsg['geometry'], crs=crs_epsg,\n",
    "                      facecolor='none', edgecolor='black')\n",
    "\n",
    "# Plot SNOWPACK minus Observations\n",
    "cbar = plt.scatter(lon, lat, c=SUMup_avg[0,:], linewidth=5, \\\n",
    "    marker='o', transform=ccrs.Geodetic(), cmap =  Blues_9.mpl_colormap)\n",
    "cbar = plt.colorbar()\n",
    "cbar.set_label(label='kg m$^-$$^3$', size = 24)\n",
    "# plt.clim(-colorbar_thresh, colorbar_thresh)\n",
    "plt.title(\"Observations\", fontsize = 24)\n",
    "plt.savefig(\"Figures/Obs_top_meter_map.pdf\", format='pdf', dpi=100)"
   ]
  },
  {
   "cell_type": "code",
   "execution_count": null,
   "metadata": {},
   "outputs": [],
   "source": [
    "np.nanmax(SUMup_avg[0,:])"
   ]
  },
  {
   "cell_type": "code",
   "execution_count": null,
   "metadata": {},
   "outputs": [],
   "source": [
    "np.nanmin(SUMup_avg[0,:])"
   ]
  },
  {
   "cell_type": "code",
   "execution_count": null,
   "metadata": {},
   "outputs": [],
   "source": [
    "np.nanmean(SUMup_avg[0,:])"
   ]
  },
  {
   "cell_type": "code",
   "execution_count": null,
   "metadata": {},
   "outputs": [],
   "source": [
    "np.nanstd(SUMup_avg[0,:])"
   ]
  },
  {
   "cell_type": "code",
   "execution_count": null,
   "metadata": {},
   "outputs": [],
   "source": [
    "slope, intercept, r_value, p_value, std_err = \\\n",
    "    stats.linregress(elevation[ind_snowpack], SUMup_avg[0,ind_snowpack])\n",
    "plt.scatter(elevation, SUMup_avg[0,:])\n",
    "plt.plot(elevation, intercept + elevation*slope)\n",
    "print(r_value**2)\n",
    "print(p_value)\n",
    "print(slope * 1000)"
   ]
  },
  {
   "cell_type": "code",
   "execution_count": null,
   "metadata": {},
   "outputs": [],
   "source": [
    "slope, intercept, r_value, p_value, std_err = \\\n",
    "    stats.linregress(p_e[ind_snowpack], SUMup_avg[0,ind_snowpack])\n",
    "plt.scatter(p_e, SUMup_avg[0,:])\n",
    "plt.plot(p_e, intercept + p_e*slope)\n",
    "print(r_value**2)\n",
    "print(p_value)"
   ]
  },
  {
   "cell_type": "markdown",
   "metadata": {},
   "source": [
    "# Plot Model"
   ]
  },
  {
   "cell_type": "code",
   "execution_count": null,
   "metadata": {},
   "outputs": [],
   "source": [
    "# Generate figure \n",
    "fig, axs = plt.subplots(1, 1, subplot_kw={'projection': crs_epsg},\n",
    "                        figsize=(10, 10))\n",
    "\n",
    "# Plot coastlines\n",
    "axs.set_extent((-180, 180, -90, -65), ccrs.PlateCarree())\n",
    "axs.add_geometries(df_epsg['geometry'], crs=crs_epsg,\n",
    "                      facecolor='none', edgecolor='black')\n",
    "\n",
    "# Plot SNOWPACK minus Observations\n",
    "cbar = plt.scatter(lon, lat, c=SNOWPACK_avg[0,:], linewidth=5, \\\n",
    "    marker='o', transform=ccrs.Geodetic(), cmap =  Blues_9.mpl_colormap)\n",
    "cbar = plt.colorbar()\n",
    "cbar.set_label(label='kg m$^-$$^3$', size = 24)\n",
    "# plt.clim(-colorbar_thresh, colorbar_thresh)\n",
    "plt.title(\"SNOWPACK\", fontsize = 24)\n",
    "plt.savefig(\"Figures/SNOWPACK_top_meter_map.pdf\", format='pdf', dpi=100)"
   ]
  },
  {
   "cell_type": "markdown",
   "metadata": {},
   "source": [
    "# Check if SNOWPACK bias in surface density (top meter) is lower than that of IMAU-FDM in a statistically significant way"
   ]
  },
  {
   "cell_type": "code",
   "execution_count": null,
   "metadata": {},
   "outputs": [],
   "source": [
    "stats.ttest_ind(SNOWPACK_diff, FDM_diff - 1, equal_var=True)"
   ]
  }
 ],
 "metadata": {
  "kernelspec": {
   "display_name": "a3d",
   "language": "python",
   "name": "a3d"
  },
  "language_info": {
   "codemirror_mode": {
    "name": "ipython",
    "version": 3
   },
   "file_extension": ".py",
   "mimetype": "text/x-python",
   "name": "python",
   "nbconvert_exporter": "python",
   "pygments_lexer": "ipython3",
   "version": "3.7.3"
  }
 },
 "nbformat": 4,
 "nbformat_minor": 2
}
